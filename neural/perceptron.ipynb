{
  "cells": [
    {
      "cell_type": "code",
      "execution_count": null,
      "metadata": {
        "id": "mcDaHlQlww8b"
      },
      "outputs": [],
      "source": [
        "### modules　related to system\n",
        "import time\n",
        "import logging\n",
        "import warnings\n",
        "from tqdm.notebook import tqdm\n",
        "warnings.filterwarnings('ignore')\n",
        "import pandas as pd, numpy as np\n",
        "import math, json, gc, random, os, sys\n",
        "import matplotlib.pyplot as plt\n",
        "from google.colab import files\n",
        "\n",
        "\n",
        "### modules　related to models\n",
        "from torch.cuda.amp import autocast, GradScaler\n",
        "import torch\n",
        "import torch.nn as nn\n",
        "import torch.nn.functional as F\n",
        "import torch.optim as optim\n",
        "import torch.utils.data as dataset\n",
        "from sklearn.model_selection import train_test_split\n",
        "device = torch.device(\"cuda:0\" if torch.cuda.is_available() else \"cpu\")\n",
        "\n",
        "\n",
        "from logging import Logger, getLogger, INFO, FileHandler,  Formatter,  StreamHandler\n",
        "\n",
        "def init_logger(log_file='logfile.log'):\n",
        "    logger = getLogger(__name__)\n",
        "    logger.setLevel(INFO)\n",
        "    handler1 = StreamHandler()\n",
        "    handler1.setFormatter(Formatter(\"%(message)s\"))\n",
        "    handler2 = FileHandler(filename=log_file)\n",
        "    handler2.setFormatter(Formatter('%(asctime)s: %(message)s   :::%(name)s:%(lineno)s %(funcName)s [%(levelname)s] '))\n",
        "    logger.addHandler(handler1)\n",
        "    logger.addHandler(handler2)\n",
        "    logger.propagate = False\n",
        "    return logger\n",
        "\n",
        "\n",
        "LOGGER = init_logger()"
      ]
    },
    {
      "cell_type": "code",
      "execution_count": null,
      "metadata": {
        "id": "SSTC3ni9w3Hp"
      },
      "outputs": [],
      "source": [
        "df = pd.read_csv('/content/kaaaa.csv', )\n",
        "df.density = df.density.apply(eval)\n",
        "df.weight = df.weight.apply(eval)\n",
        "\n",
        "train_df, val_df = train_test_split(df, train_size=0.8, shuffle= True)"
      ]
    },
    {
      "cell_type": "code",
      "execution_count": null,
      "metadata": {
        "id": "Rxg-nvGHyVHq"
      },
      "outputs": [],
      "source": [
        "input = 99\n",
        "layer1 = 700\n",
        "layer2 = 700\n",
        "interval = 49\n",
        "\n",
        "class Model(nn.Module):\n",
        "    def __init__(self):\n",
        "        super().__init__()\n",
        "        self.fc1 = nn.Linear(input, layer1)\n",
        "        self.fc2 = nn.Linear(layer1, layer2)\n",
        "        self.fc3 = nn.Linear(layer2, interval)\n",
        "\n",
        "    def forward(self, x):\n",
        "        x = F.relu(self.fc1(x))\n",
        "        x = F.dropout(x)\n",
        "        x = F.relu(self.fc2(x))\n",
        "        x = F.dropout(x)\n",
        "        x = F.relu(self.fc3(x))\n",
        "        return x"
      ]
    },
    {
      "cell_type": "code",
      "execution_count": null,
      "metadata": {
        "id": "LQaAeMiHxw6z"
      },
      "outputs": [],
      "source": [
        "class Dataset(dataset.Dataset):\n",
        "    def __init__(self,df):        \n",
        "        self.df=df\n",
        "        \n",
        "    def __len__(self):\n",
        "        return len(self.df)\n",
        "\n",
        "    def __getitem__(self, idx):\n",
        "        weight =  torch.tensor(df.weight.iloc[idx])\n",
        "        density = torch.tensor(df.density.iloc[idx])\n",
        "        return  density, weight"
      ]
    },
    {
      "cell_type": "code",
      "execution_count": null,
      "metadata": {
        "id": "uuKtDJ0B0zmC"
      },
      "outputs": [],
      "source": [
        "MAX_EPOCH = 1000\n",
        "\n",
        "loaders = {\n",
        "    \"train\": dataset.DataLoader(Dataset(train_df),\n",
        "                              batch_size=512, \n",
        "                              shuffle=True, \n",
        "                              num_workers=2, \n",
        "                              pin_memory=True, \n",
        "                              drop_last=True),\n",
        "    \"valid\": dataset.DataLoader(Dataset(val_df),\n",
        "                              batch_size=512, \n",
        "                              shuffle=False,\n",
        "                              num_workers=2,\n",
        "                              pin_memory=True,\n",
        "                              drop_last=False),\n",
        "}\n",
        "\n",
        "# model\n",
        "model = Model().to(device)\n",
        "\n",
        "# Optimizer\n",
        "optimizer = optim.Adam(model.parameters(), lr=0.00006)\n",
        "\n",
        "# Scheduler\n",
        "scheduler = optim.lr_scheduler.CosineAnnealingLR(optimizer, T_max=MAX_EPOCH)\n",
        "\n",
        "# Loss\n",
        "criterion = nn.MSELoss()\n",
        "\n",
        "scaler = GradScaler()\n",
        "\n",
        "best_loss=1000000\n"
      ]
    },
    {
      "cell_type": "code",
      "execution_count": null,
      "metadata": {
        "colab": {
          "base_uri": "https://localhost:8080/",
          "height": 1000
        },
        "id": "GLWpd4r612g-",
        "outputId": "e2f9aff3-5b07-4d52-a630-1631e0c910e1"
      },
      "outputs": [
        {
          "name": "stderr",
          "output_type": "stream",
          "text": [
            "current epoch:0\n",
            "loss:0.001060599577613175\n",
            "valid_loss:0.000907083653146401\n",
            "current epoch:50\n",
            "loss:4.703193813579024e-05\n",
            "valid_loss:4.525846634351183e-05\n",
            "current epoch:100\n",
            "loss:2.5514404894368325e-05\n",
            "valid_loss:2.4557261895097326e-05\n",
            "current epoch:150\n",
            "loss:1.8837226889445446e-05\n",
            "valid_loss:1.8692654521146324e-05\n",
            "current epoch:200\n",
            "loss:1.5092612427127148e-05\n",
            "valid_loss:1.5665396858821623e-05\n",
            "current epoch:250\n",
            "loss:1.278668423765339e-05\n",
            "valid_loss:1.2522506040113512e-05\n",
            "current epoch:300\n",
            "loss:1.1336911094466423e-05\n",
            "valid_loss:1.1100270967290271e-05\n",
            "current epoch:350\n",
            "loss:9.94702687811306e-06\n",
            "valid_loss:1.0127208952326328e-05\n",
            "current epoch:400\n",
            "loss:8.826652057385737e-06\n",
            "valid_loss:8.872817943483824e-06\n",
            "current epoch:450\n",
            "loss:8.028775222815707e-06\n",
            "valid_loss:8.092146799754119e-06\n",
            "current epoch:500\n",
            "loss:7.249231332804941e-06\n",
            "valid_loss:7.167565399868181e-06\n",
            "current epoch:550\n",
            "loss:6.7504850319112715e-06\n",
            "valid_loss:6.758308700227644e-06\n",
            "current epoch:600\n",
            "loss:6.422130159730191e-06\n",
            "valid_loss:6.281908554228721e-06\n",
            "current epoch:650\n",
            "loss:6.2226987600817144e-06\n",
            "valid_loss:6.296294941421365e-06\n",
            "current epoch:700\n",
            "loss:5.983142597999956e-06\n",
            "valid_loss:6.0904828842467396e-06\n",
            "current epoch:750\n",
            "loss:5.812320198726541e-06\n",
            "valid_loss:5.837289108967525e-06\n",
            "current epoch:800\n",
            "loss:5.683720571271676e-06\n",
            "valid_loss:5.675430884366506e-06\n",
            "current epoch:850\n",
            "loss:5.693320157921075e-06\n",
            "valid_loss:5.619926014333032e-06\n",
            "current epoch:900\n",
            "loss:5.566844460450479e-06\n",
            "valid_loss:5.5605439683859e-06\n",
            "current epoch:950\n",
            "loss:5.629693857502259e-06\n",
            "valid_loss:5.4466704568767454e-06\n",
            "========= training result ==========\n",
            "best epoch:950\n",
            "best loss:5.4466704568767454e-06\n"
          ]
        },
        {
          "data": {
            "application/javascript": "\n    async function download(id, filename, size) {\n      if (!google.colab.kernel.accessAllowed) {\n        return;\n      }\n      const div = document.createElement('div');\n      const label = document.createElement('label');\n      label.textContent = `Downloading \"${filename}\": `;\n      div.appendChild(label);\n      const progress = document.createElement('progress');\n      progress.max = size;\n      div.appendChild(progress);\n      document.body.appendChild(div);\n\n      const buffers = [];\n      let downloaded = 0;\n\n      const channel = await google.colab.kernel.comms.open(id);\n      // Send a message to notify the kernel that we're ready.\n      channel.send({})\n\n      for await (const message of channel.messages) {\n        // Send a message to notify the kernel that we're ready.\n        channel.send({})\n        if (message.buffers) {\n          for (const buffer of message.buffers) {\n            buffers.push(buffer);\n            downloaded += buffer.byteLength;\n            progress.value = downloaded;\n          }\n        }\n      }\n      const blob = new Blob(buffers, {type: 'application/binary'});\n      const a = document.createElement('a');\n      a.href = window.URL.createObjectURL(blob);\n      a.download = filename;\n      div.appendChild(a);\n      a.click();\n      div.remove();\n    }\n  ",
            "text/plain": [
              "<IPython.core.display.Javascript object>"
            ]
          },
          "metadata": {},
          "output_type": "display_data"
        },
        {
          "data": {
            "application/javascript": "download(\"download_284e74eb-1f71-4ee4-a9cd-ae5cc79850d0\", \"best.pth\", 2382103)",
            "text/plain": [
              "<IPython.core.display.Javascript object>"
            ]
          },
          "metadata": {},
          "output_type": "display_data"
        }
      ],
      "source": [
        "FREQ = 50\n",
        "\n",
        "for epoch in range(MAX_EPOCH):\n",
        "        sum_loss =0\n",
        "        model.train()\n",
        "        gc.collect()\n",
        "        for x, y in loaders['train']:\n",
        "            x = x.to(device)\n",
        "            y = y.to(device)\n",
        "            output = model(x)\n",
        "            loss = criterion(output, y)\n",
        "            scaler.scale(loss).backward()\n",
        "            scaler.step(optimizer)\n",
        "            scaler.update()\n",
        "            optimizer.zero_grad()\n",
        "            sum_loss +=loss.item()\n",
        "        scheduler.step()\n",
        "        train_loss=sum_loss/len(loaders['train'])\n",
        "        sum_loss=0\n",
        "        model.eval()\n",
        "        gc.collect()\n",
        "        for inputs, labels in loaders['valid']:\n",
        "            labels = labels.to(device)\n",
        "            inputs = inputs.to(device)\n",
        "            with torch.no_grad():\n",
        "                output = model(x) \n",
        "                loss = criterion(output, y)\n",
        "                sum_loss+=loss.item()\n",
        "        valid_loss=sum_loss/len(loaders['valid'])\n",
        "        if epoch % FREQ == 0:\n",
        "          LOGGER.info(f'current epoch:{epoch}')\n",
        "          LOGGER.info(f'loss:{train_loss}')\n",
        "          LOGGER.info(f'valid_loss:{valid_loss}')\n",
        "        if valid_loss < best_loss:\n",
        "            best_loss=valid_loss\n",
        "            best_epoch=epoch\n",
        "            torch.save(model.to('cpu').state_dict(), 'best.pth')\n",
        "\n",
        "LOGGER.info('========= training result ==========')\n",
        "LOGGER.info(f'best epoch:{best_epoch}')\n",
        "LOGGER.info(f'best loss:{best_loss}')\n",
        "\n",
        "files.download('best.pth')"
      ]
    },
    {
      "cell_type": "code",
      "execution_count": null,
      "metadata": {
        "colab": {
          "base_uri": "https://localhost:8080/",
          "height": 49,
          "referenced_widgets": [
            "95c3c6da69d3420cb708d35354e27aca",
            "da7000cbad10489eb55e1f5eced1b48b",
            "89fca50ab28f469bb9955fbabaa10f59",
            "ca5f8d1884d44c6cbd9473c3b4926e81",
            "5a0be6512c2d480991c49022871eb070",
            "1586b2e584b846f293ff3edea3a97942",
            "9fd4877a0c2746abaaed03f5af3e1de9",
            "2bb1fe0599e049559eabf97cb192d0f4",
            "0bf41d9d2d2d4793be3a352fe8ccd53a",
            "5bda208a38bd4c9398e281d45d92be26",
            "a279e32d5a634f4db1d6a743f64760ca"
          ]
        },
        "id": "D5eA8gg99cDQ",
        "outputId": "53a6a7fc-77c7-4386-e358-f2a82a3ff817"
      },
      "outputs": [
        {
          "data": {
            "application/vnd.jupyter.widget-view+json": {
              "model_id": "95c3c6da69d3420cb708d35354e27aca",
              "version_major": 2,
              "version_minor": 0
            },
            "text/plain": [
              "  0%|          | 0/2 [00:00<?, ?it/s]"
            ]
          },
          "metadata": {},
          "output_type": "display_data"
        }
      ],
      "source": [
        "model = Model().to(device)\n",
        "checkpoint = torch.load('/content/best.pth')\n",
        "model.load_state_dict(checkpoint)\n",
        "model.eval()\n",
        "submission = pd.DataFrame(index=[], columns=['expected_weight', 'true'])\n",
        "for i, (x,y)   in tqdm(enumerate(loaders['valid']), total=len(loaders['valid'])):\n",
        "    with torch.no_grad():\n",
        "        prediction = model(x).to('cpu').numpy().copy().tolist()\n",
        "        y = y.to('cpu').numpy().copy().tolist()\n",
        "        for i in range(len(prediction)):\n",
        "          submission = submission.append({'expected_weight': prediction[i], 'true' : y[i]}, ignore_index=True)\n"
      ]
    },
    {
      "cell_type": "code",
      "execution_count": null,
      "metadata": {
        "colab": {
          "base_uri": "https://localhost:8080/",
          "height": 17
        },
        "id": "FJp1OqRXC5Jx",
        "outputId": "4d6e0658-8140-4442-b294-a594bd222003"
      },
      "outputs": [
        {
          "data": {
            "application/javascript": "\n    async function download(id, filename, size) {\n      if (!google.colab.kernel.accessAllowed) {\n        return;\n      }\n      const div = document.createElement('div');\n      const label = document.createElement('label');\n      label.textContent = `Downloading \"${filename}\": `;\n      div.appendChild(label);\n      const progress = document.createElement('progress');\n      progress.max = size;\n      div.appendChild(progress);\n      document.body.appendChild(div);\n\n      const buffers = [];\n      let downloaded = 0;\n\n      const channel = await google.colab.kernel.comms.open(id);\n      // Send a message to notify the kernel that we're ready.\n      channel.send({})\n\n      for await (const message of channel.messages) {\n        // Send a message to notify the kernel that we're ready.\n        channel.send({})\n        if (message.buffers) {\n          for (const buffer of message.buffers) {\n            buffers.push(buffer);\n            downloaded += buffer.byteLength;\n            progress.value = downloaded;\n          }\n        }\n      }\n      const blob = new Blob(buffers, {type: 'application/binary'});\n      const a = document.createElement('a');\n      a.href = window.URL.createObjectURL(blob);\n      a.download = filename;\n      div.appendChild(a);\n      a.click();\n      div.remove();\n    }\n  ",
            "text/plain": [
              "<IPython.core.display.Javascript object>"
            ]
          },
          "metadata": {},
          "output_type": "display_data"
        },
        {
          "data": {
            "application/javascript": "download(\"download_c2e4fe16-2467-487e-95ed-1c97618a2f02\", \"submission.csv\", 1784948)",
            "text/plain": [
              "<IPython.core.display.Javascript object>"
            ]
          },
          "metadata": {},
          "output_type": "display_data"
        }
      ],
      "source": [
        "submission.to_csv('submission.csv')\n",
        "files.download('submission.csv')"
      ]
    },
    {
      "cell_type": "code",
      "execution_count": null,
      "metadata": {
        "id": "ghTcmqkv70M-"
      },
      "outputs": [],
      "source": []
    }
  ],
  "metadata": {
    "accelerator": "GPU",
    "colab": {
      "collapsed_sections": [],
      "name": "にゅーらる",
      "provenance": []
    },
    "kernelspec": {
      "display_name": "Python 3",
      "name": "python3"
    },
    "widgets": {
      "application/vnd.jupyter.widget-state+json": {
        "0bf41d9d2d2d4793be3a352fe8ccd53a": {
          "model_module": "@jupyter-widgets/base",
          "model_module_version": "1.2.0",
          "model_name": "LayoutModel",
          "state": {
            "_model_module": "@jupyter-widgets/base",
            "_model_module_version": "1.2.0",
            "_model_name": "LayoutModel",
            "_view_count": null,
            "_view_module": "@jupyter-widgets/base",
            "_view_module_version": "1.2.0",
            "_view_name": "LayoutView",
            "align_content": null,
            "align_items": null,
            "align_self": null,
            "border": null,
            "bottom": null,
            "display": null,
            "flex": null,
            "flex_flow": null,
            "grid_area": null,
            "grid_auto_columns": null,
            "grid_auto_flow": null,
            "grid_auto_rows": null,
            "grid_column": null,
            "grid_gap": null,
            "grid_row": null,
            "grid_template_areas": null,
            "grid_template_columns": null,
            "grid_template_rows": null,
            "height": null,
            "justify_content": null,
            "justify_items": null,
            "left": null,
            "margin": null,
            "max_height": null,
            "max_width": null,
            "min_height": null,
            "min_width": null,
            "object_fit": null,
            "object_position": null,
            "order": null,
            "overflow": null,
            "overflow_x": null,
            "overflow_y": null,
            "padding": null,
            "right": null,
            "top": null,
            "visibility": null,
            "width": null
          }
        },
        "1586b2e584b846f293ff3edea3a97942": {
          "model_module": "@jupyter-widgets/controls",
          "model_module_version": "1.5.0",
          "model_name": "DescriptionStyleModel",
          "state": {
            "_model_module": "@jupyter-widgets/controls",
            "_model_module_version": "1.5.0",
            "_model_name": "DescriptionStyleModel",
            "_view_count": null,
            "_view_module": "@jupyter-widgets/base",
            "_view_module_version": "1.2.0",
            "_view_name": "StyleView",
            "description_width": ""
          }
        },
        "2bb1fe0599e049559eabf97cb192d0f4": {
          "model_module": "@jupyter-widgets/controls",
          "model_module_version": "1.5.0",
          "model_name": "ProgressStyleModel",
          "state": {
            "_model_module": "@jupyter-widgets/controls",
            "_model_module_version": "1.5.0",
            "_model_name": "ProgressStyleModel",
            "_view_count": null,
            "_view_module": "@jupyter-widgets/base",
            "_view_module_version": "1.2.0",
            "_view_name": "StyleView",
            "bar_color": null,
            "description_width": ""
          }
        },
        "5a0be6512c2d480991c49022871eb070": {
          "model_module": "@jupyter-widgets/controls",
          "model_module_version": "1.5.0",
          "model_name": "HTMLModel",
          "state": {
            "_dom_classes": [],
            "_model_module": "@jupyter-widgets/controls",
            "_model_module_version": "1.5.0",
            "_model_name": "HTMLModel",
            "_view_count": null,
            "_view_module": "@jupyter-widgets/controls",
            "_view_module_version": "1.5.0",
            "_view_name": "HTMLView",
            "description": "",
            "description_tooltip": null,
            "layout": "IPY_MODEL_a279e32d5a634f4db1d6a743f64760ca",
            "placeholder": "​",
            "style": "IPY_MODEL_5bda208a38bd4c9398e281d45d92be26",
            "value": " 2/2 [00:03&lt;00:00,  1.50s/it]"
          }
        },
        "5bda208a38bd4c9398e281d45d92be26": {
          "model_module": "@jupyter-widgets/controls",
          "model_module_version": "1.5.0",
          "model_name": "DescriptionStyleModel",
          "state": {
            "_model_module": "@jupyter-widgets/controls",
            "_model_module_version": "1.5.0",
            "_model_name": "DescriptionStyleModel",
            "_view_count": null,
            "_view_module": "@jupyter-widgets/base",
            "_view_module_version": "1.2.0",
            "_view_name": "StyleView",
            "description_width": ""
          }
        },
        "89fca50ab28f469bb9955fbabaa10f59": {
          "model_module": "@jupyter-widgets/controls",
          "model_module_version": "1.5.0",
          "model_name": "HTMLModel",
          "state": {
            "_dom_classes": [],
            "_model_module": "@jupyter-widgets/controls",
            "_model_module_version": "1.5.0",
            "_model_name": "HTMLModel",
            "_view_count": null,
            "_view_module": "@jupyter-widgets/controls",
            "_view_module_version": "1.5.0",
            "_view_name": "HTMLView",
            "description": "",
            "description_tooltip": null,
            "layout": "IPY_MODEL_9fd4877a0c2746abaaed03f5af3e1de9",
            "placeholder": "​",
            "style": "IPY_MODEL_1586b2e584b846f293ff3edea3a97942",
            "value": "100%"
          }
        },
        "95c3c6da69d3420cb708d35354e27aca": {
          "model_module": "@jupyter-widgets/controls",
          "model_module_version": "1.5.0",
          "model_name": "HBoxModel",
          "state": {
            "_dom_classes": [],
            "_model_module": "@jupyter-widgets/controls",
            "_model_module_version": "1.5.0",
            "_model_name": "HBoxModel",
            "_view_count": null,
            "_view_module": "@jupyter-widgets/controls",
            "_view_module_version": "1.5.0",
            "_view_name": "HBoxView",
            "box_style": "",
            "children": [
              "IPY_MODEL_89fca50ab28f469bb9955fbabaa10f59",
              "IPY_MODEL_ca5f8d1884d44c6cbd9473c3b4926e81",
              "IPY_MODEL_5a0be6512c2d480991c49022871eb070"
            ],
            "layout": "IPY_MODEL_da7000cbad10489eb55e1f5eced1b48b"
          }
        },
        "9fd4877a0c2746abaaed03f5af3e1de9": {
          "model_module": "@jupyter-widgets/base",
          "model_module_version": "1.2.0",
          "model_name": "LayoutModel",
          "state": {
            "_model_module": "@jupyter-widgets/base",
            "_model_module_version": "1.2.0",
            "_model_name": "LayoutModel",
            "_view_count": null,
            "_view_module": "@jupyter-widgets/base",
            "_view_module_version": "1.2.0",
            "_view_name": "LayoutView",
            "align_content": null,
            "align_items": null,
            "align_self": null,
            "border": null,
            "bottom": null,
            "display": null,
            "flex": null,
            "flex_flow": null,
            "grid_area": null,
            "grid_auto_columns": null,
            "grid_auto_flow": null,
            "grid_auto_rows": null,
            "grid_column": null,
            "grid_gap": null,
            "grid_row": null,
            "grid_template_areas": null,
            "grid_template_columns": null,
            "grid_template_rows": null,
            "height": null,
            "justify_content": null,
            "justify_items": null,
            "left": null,
            "margin": null,
            "max_height": null,
            "max_width": null,
            "min_height": null,
            "min_width": null,
            "object_fit": null,
            "object_position": null,
            "order": null,
            "overflow": null,
            "overflow_x": null,
            "overflow_y": null,
            "padding": null,
            "right": null,
            "top": null,
            "visibility": null,
            "width": null
          }
        },
        "a279e32d5a634f4db1d6a743f64760ca": {
          "model_module": "@jupyter-widgets/base",
          "model_module_version": "1.2.0",
          "model_name": "LayoutModel",
          "state": {
            "_model_module": "@jupyter-widgets/base",
            "_model_module_version": "1.2.0",
            "_model_name": "LayoutModel",
            "_view_count": null,
            "_view_module": "@jupyter-widgets/base",
            "_view_module_version": "1.2.0",
            "_view_name": "LayoutView",
            "align_content": null,
            "align_items": null,
            "align_self": null,
            "border": null,
            "bottom": null,
            "display": null,
            "flex": null,
            "flex_flow": null,
            "grid_area": null,
            "grid_auto_columns": null,
            "grid_auto_flow": null,
            "grid_auto_rows": null,
            "grid_column": null,
            "grid_gap": null,
            "grid_row": null,
            "grid_template_areas": null,
            "grid_template_columns": null,
            "grid_template_rows": null,
            "height": null,
            "justify_content": null,
            "justify_items": null,
            "left": null,
            "margin": null,
            "max_height": null,
            "max_width": null,
            "min_height": null,
            "min_width": null,
            "object_fit": null,
            "object_position": null,
            "order": null,
            "overflow": null,
            "overflow_x": null,
            "overflow_y": null,
            "padding": null,
            "right": null,
            "top": null,
            "visibility": null,
            "width": null
          }
        },
        "ca5f8d1884d44c6cbd9473c3b4926e81": {
          "model_module": "@jupyter-widgets/controls",
          "model_module_version": "1.5.0",
          "model_name": "FloatProgressModel",
          "state": {
            "_dom_classes": [],
            "_model_module": "@jupyter-widgets/controls",
            "_model_module_version": "1.5.0",
            "_model_name": "FloatProgressModel",
            "_view_count": null,
            "_view_module": "@jupyter-widgets/controls",
            "_view_module_version": "1.5.0",
            "_view_name": "ProgressView",
            "bar_style": "success",
            "description": "",
            "description_tooltip": null,
            "layout": "IPY_MODEL_0bf41d9d2d2d4793be3a352fe8ccd53a",
            "max": 2,
            "min": 0,
            "orientation": "horizontal",
            "style": "IPY_MODEL_2bb1fe0599e049559eabf97cb192d0f4",
            "value": 2
          }
        },
        "da7000cbad10489eb55e1f5eced1b48b": {
          "model_module": "@jupyter-widgets/base",
          "model_module_version": "1.2.0",
          "model_name": "LayoutModel",
          "state": {
            "_model_module": "@jupyter-widgets/base",
            "_model_module_version": "1.2.0",
            "_model_name": "LayoutModel",
            "_view_count": null,
            "_view_module": "@jupyter-widgets/base",
            "_view_module_version": "1.2.0",
            "_view_name": "LayoutView",
            "align_content": null,
            "align_items": null,
            "align_self": null,
            "border": null,
            "bottom": null,
            "display": null,
            "flex": null,
            "flex_flow": null,
            "grid_area": null,
            "grid_auto_columns": null,
            "grid_auto_flow": null,
            "grid_auto_rows": null,
            "grid_column": null,
            "grid_gap": null,
            "grid_row": null,
            "grid_template_areas": null,
            "grid_template_columns": null,
            "grid_template_rows": null,
            "height": null,
            "justify_content": null,
            "justify_items": null,
            "left": null,
            "margin": null,
            "max_height": null,
            "max_width": null,
            "min_height": null,
            "min_width": null,
            "object_fit": null,
            "object_position": null,
            "order": null,
            "overflow": null,
            "overflow_x": null,
            "overflow_y": null,
            "padding": null,
            "right": null,
            "top": null,
            "visibility": null,
            "width": null
          }
        }
      }
    }
  },
  "nbformat": 4,
  "nbformat_minor": 0
}
